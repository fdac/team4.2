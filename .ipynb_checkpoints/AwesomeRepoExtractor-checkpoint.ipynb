{
 "metadata": {
  "name": "",
  "signature": "sha256:946f4ba167dd7ccaa37ac4a164aaabe8583b24ff5558a689451678032927d14a"
 },
 "nbformat": 3,
 "nbformat_minor": 0,
 "worksheets": [
  {
   "cells": [
    {
     "cell_type": "code",
     "collapsed": false,
     "input": [
      "\n",
      "divFile = open('divided', 'r')\n",
      "aweFile = open('awesomeRepos', 'w')\n",
      "\n",
      "teamAwesome = '4'\n",
      "delim = ';' # Character to split on\n",
      "\n",
      "for line in divFile:\n",
      "    split_line = line.split(delim)\n",
      "    team = split_line[0]\n",
      "    \n",
      "    if team == teamAwesome:\n",
      "        aweFile.write(line)\n",
      "\n",
      "aweFile.close()\n",
      "divFile.close()\n"
     ],
     "language": "python",
     "metadata": {},
     "outputs": [
      {
       "output_type": "stream",
       "stream": "stdout",
       "text": [
        "4;hg;eskirton/galaxy-central-modules\n",
        "\n"
       ]
      }
     ],
     "prompt_number": 15
    },
    {
     "cell_type": "code",
     "collapsed": false,
     "input": [],
     "language": "python",
     "metadata": {},
     "outputs": []
    }
   ],
   "metadata": {}
  }
 ]
}