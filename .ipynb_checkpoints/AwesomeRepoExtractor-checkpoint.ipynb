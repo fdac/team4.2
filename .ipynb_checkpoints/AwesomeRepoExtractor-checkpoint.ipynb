{
 "metadata": {
  "name": "",
  "signature": "sha256:872cff12bedf72af42f2fe33389e714c60410b7fd7d5bb7ffbf9be1d64181ac3"
 },
 "nbformat": 3,
 "nbformat_minor": 0,
 "worksheets": [
  {
   "cells": [
    {
     "cell_type": "code",
     "collapsed": false,
     "input": [
      "# Extract Team Awesome repos from 'divided'\n",
      "divFile = open('divided', 'r')\n",
      "aweFile = open('awesomeRepos', 'w')\n",
      "\n",
      "teamAwesome = '4'\n",
      "delim = ';' # delimeter: Character to split on\n",
      "\n",
      "for line in divFile:\n",
      "    split_line = line.split(delim) # Split into array based on ';'\n",
      "    team = split_line[0]           # [ team num , vers. control system, repo ]\n",
      "    \n",
      "    if team == teamAwesome:\n",
      "        aweFile.write(line)\n",
      "\n",
      "aweFile.close()\n",
      "divFile.close()\n"
     ],
     "language": "python",
     "metadata": {},
     "outputs": [],
     "prompt_number": 16
    },
    {
     "cell_type": "code",
     "collapsed": false,
     "input": [
      "\n",
      "repos = {}\n",
      "delim = ';'\n",
      "\n",
      "aweFile = open('awesomeRepos', 'r')\n",
      "\n",
      "# Create a dictionary of repos\n",
      "for line in aweFile:\n",
      "    split_line = line.split(delim)\n",
      "    repo = split_line[2]\n",
      "    repos[repo] = True\n",
      "\n",
      "aweFile.close()\n",
      "\n",
      "repoSizeFile = open('RepoSize.csv', 'r')\n",
      "aweSizeFile = open('awesomeRepoSizes', 'w')\n",
      "\n",
      "for line in repoSizeFile:\n",
      "    split_line = line.split(delim)\n",
      "    repo = split_line[5]\n",
      "            \n",
      "    if repo in repos:\n",
      "        aweSizeFile.write(line)\n",
      "    \n",
      "repoSizeFile.close()\n",
      "aweSizeFile.close()\n"
     ],
     "language": "python",
     "metadata": {},
     "outputs": []
    },
    {
     "cell_type": "code",
     "collapsed": false,
     "input": [
      "\n",
      "import os\n",
      "\n",
      "def clean(string):\n",
      "    return string.replace('\\n', '')\n",
      "\n",
      "command = 'hg clone -U'\n",
      "server = 'https://bitbucket.org/'\n",
      "target = 'eskirton/galaxy-central-modules'\n",
      "dest = target.replace('/', '_', 1) # Replace first occurence of '/' with '_'\n",
      "\n",
      "os.system(command + ' ' + server + target + ' ' + dest)\n"
     ],
     "language": "python",
     "metadata": {},
     "outputs": [
      {
       "metadata": {},
       "output_type": "pyout",
       "prompt_number": 4,
       "text": [
        "0"
       ]
      }
     ],
     "prompt_number": 4
    },
    {
     "cell_type": "code",
     "collapsed": false,
     "input": [
      "\n",
      "numCores = 4\n",
      "forkId = 0\n",
      "\n",
      "# Get a list of repos\n",
      "\n",
      "# Split into numCores lists\n",
      "\n",
      "# Fork numCores processes and pass each sublist\n",
      "for i in range(numCores):\n",
      "    forkId = i\n",
      "    if fork() == 0:\n",
      "        break\n",
      "    elif i == numCores - 1:\n",
      "        return\n",
      "\n",
      "subLists[forkId]\n",
      "\n",
      "# Write to file\n",
      "\n"
     ],
     "language": "python",
     "metadata": {},
     "outputs": []
    }
   ],
   "metadata": {}
  }
 ]
}