{
 "metadata": {
  "name": "",
  "signature": "sha256:cd092a548bb1fcf527cf1cf4c49773faca108ba653d9bf5f1cf89f6cde651515"
 },
 "nbformat": 3,
 "nbformat_minor": 0,
 "worksheets": [
  {
   "cells": [
    {
     "cell_type": "code",
     "collapsed": false,
     "input": [
      "\n",
      "divFile = open('divided', 'r')\n",
      "aweFile = open('awesomeRepos', 'w')\n",
      "\n",
      "teamAwesome = '4'\n",
      "delim = ';' # Character to split on\n",
      "\n",
      "for line in divFile:\n",
      "    split_line = line.split(delim)\n",
      "    team = split_line[0]\n",
      "    \n",
      "    if team == teamAwesome:\n",
      "        aweFile.write(line)\n",
      "\n",
      "aweFile.close()\n",
      "divFile.close()\n"
     ],
     "language": "python",
     "metadata": {},
     "outputs": [],
     "prompt_number": 16
    },
    {
     "cell_type": "code",
     "collapsed": false,
     "input": [],
     "language": "python",
     "metadata": {},
     "outputs": []
    }
   ],
   "metadata": {}
  }
 ]
}